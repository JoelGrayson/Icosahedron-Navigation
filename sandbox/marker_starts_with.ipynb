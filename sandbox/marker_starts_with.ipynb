{
 "cells": [
  {
   "cell_type": "code",
   "execution_count": 5,
   "metadata": {},
   "outputs": [],
   "source": [
    "import sys\n",
    "sys.path.append('../icosahedron/')\n",
    "from SuperIcosahedron import SuperIcosahedron\n"
   ]
  },
  {
   "cell_type": "code",
   "execution_count": 6,
   "metadata": {},
   "outputs": [],
   "source": [
    "def marker_starts_with(ic, letter) -> bool:\n",
    "    if ic.get_marker() is None:\n",
    "        return False\n",
    "    return ic.get_marker()[0]==letter"
   ]
  },
  {
   "cell_type": "code",
   "execution_count": 7,
   "metadata": {},
   "outputs": [
    {
     "ename": "TypeError",
     "evalue": "super(type, obj): obj must be an instance or subtype of type",
     "output_type": "error",
     "traceback": [
      "\u001b[0;31m---------------------------------------------------------------------------\u001b[0m",
      "\u001b[0;31mTypeError\u001b[0m                                 Traceback (most recent call last)",
      "\u001b[1;32m/Users/joelgrayson/Documents/Computer Science/Math/Icosahedron-Navigation/sandbox/marker_starts_with.ipynb Cell 3'\u001b[0m in \u001b[0;36m<cell line: 1>\u001b[0;34m()\u001b[0m\n\u001b[0;32m----> <a href='vscode-notebook-cell:/Users/joelgrayson/Documents/Computer%20Science/Math/Icosahedron-Navigation/sandbox/marker_starts_with.ipynb#ch0000002?line=0'>1</a>\u001b[0m ic\u001b[39m=\u001b[39mSuperIcosahedron()\n",
      "File \u001b[0;32m~/Documents/Computer Science/Math/Icosahedron-Navigation/sandbox/../icosahedron/SuperIcosahedron.py:7\u001b[0m, in \u001b[0;36mSuperIcosahedron.__init__\u001b[0;34m(self, start)\u001b[0m\n\u001b[1;32m      6\u001b[0m \u001b[39mdef\u001b[39;00m \u001b[39m__init__\u001b[39m(\u001b[39mself\u001b[39m, start\u001b[39m=\u001b[39m\u001b[39m1\u001b[39m):\n\u001b[0;32m----> 7\u001b[0m     \u001b[39msuper\u001b[39;49m(SuperIcosahedron, \u001b[39m1\u001b[39;49m)\n\u001b[1;32m      8\u001b[0m     \u001b[39mself\u001b[39m\u001b[39m.\u001b[39manalytics\u001b[39m=\u001b[39m{\n\u001b[1;32m      9\u001b[0m         \u001b[39m\"\u001b[39m\u001b[39mnum_moves\u001b[39m\u001b[39m\"\u001b[39m: \u001b[39m0\u001b[39m, \u001b[39m#number of moves\u001b[39;00m\n\u001b[1;32m     10\u001b[0m         \u001b[39m\"\u001b[39m\u001b[39mnum_markers\u001b[39m\u001b[39m\"\u001b[39m: \u001b[39m0\u001b[39m, \u001b[39m#number of markers used\u001b[39;00m\n\u001b[1;32m     11\u001b[0m         \u001b[39m\"\u001b[39m\u001b[39mmarker_types\u001b[39m\u001b[39m\"\u001b[39m: \u001b[39mset\u001b[39m() \u001b[39m#unique markers\u001b[39;00m\n\u001b[1;32m     12\u001b[0m     }\n",
      "\u001b[0;31mTypeError\u001b[0m: super(type, obj): obj must be an instance or subtype of type"
     ]
    }
   ],
   "source": [
    "ic=SuperIcosahedron()"
   ]
  },
  {
   "cell_type": "code",
   "execution_count": null,
   "metadata": {},
   "outputs": [
    {
     "name": "stdout",
     "output_type": "stream",
     "text": [
      " 1\t 2\t 3\t*4*\t 5\t 6 (2.3)\t 7\t 8\t 9\t 10\t 11\t 12\t\n"
     ]
    }
   ],
   "source": [
    "print(ic)"
   ]
  },
  {
   "cell_type": "code",
   "execution_count": null,
   "metadata": {},
   "outputs": [
    {
     "name": "stdout",
     "output_type": "stream",
     "text": [
      " 1\t 2\t 3\t 4\t 5\t*6 (2.3)*\t 7\t 8\t 9\t 10\t 11\t 12\t\n"
     ]
    }
   ],
   "source": [
    "ic.move()"
   ]
  },
  {
   "cell_type": "code",
   "execution_count": null,
   "metadata": {},
   "outputs": [],
   "source": [
    "ic.set_marker('2.3')"
   ]
  },
  {
   "cell_type": "code",
   "execution_count": null,
   "metadata": {},
   "outputs": [
    {
     "data": {
      "text/plain": [
       "True"
      ]
     },
     "execution_count": 37,
     "metadata": {},
     "output_type": "execute_result"
    }
   ],
   "source": [
    "marker_starts_with(ic, '2')"
   ]
  },
  {
   "cell_type": "markdown",
   "metadata": {},
   "source": []
  }
 ],
 "metadata": {
  "kernelspec": {
   "display_name": "Python 3.10.4 64-bit",
   "language": "python",
   "name": "python3"
  },
  "language_info": {
   "codemirror_mode": {
    "name": "ipython",
    "version": 3
   },
   "file_extension": ".py",
   "mimetype": "text/x-python",
   "name": "python",
   "nbconvert_exporter": "python",
   "pygments_lexer": "ipython3",
   "version": "3.10.4"
  },
  "orig_nbformat": 4,
  "vscode": {
   "interpreter": {
    "hash": "aee8b7b246df8f9039afb4144a1f6fd8d2ca17a180786b69acc140d282b71a49"
   }
  }
 },
 "nbformat": 4,
 "nbformat_minor": 2
}
